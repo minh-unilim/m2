{
 "cells": [
  {
   "cell_type": "code",
   "execution_count": 1,
   "metadata": {},
   "outputs": [],
   "source": [
    "import numpy as np"
   ]
  },
  {
   "cell_type": "markdown",
   "metadata": {},
   "source": [
    "# Exercise 1"
   ]
  },
  {
   "cell_type": "markdown",
   "metadata": {},
   "source": [
    "#### Create $A$ and $b$"
   ]
  },
  {
   "cell_type": "code",
   "execution_count": 9,
   "metadata": {},
   "outputs": [],
   "source": [
    "n = 5\n",
    "A = np.zeros((n, n))\n",
    "\n",
    "# Assign for the first and last rows\n",
    "A[0, 0] = 2\n",
    "A[0, 1] = -1\n",
    "A[-1, -1] = -1\n",
    "A[-1, -2] = 2\n",
    "\n",
    "# Assign for other rows\n",
    "for i in range(1, n-1):\n",
    "  A[i, i] = 2\n",
    "  A[i, i-1] = -1\n",
    "  A[i, i+1] = -1\n",
    "\n",
    "b = np.ones((n, 1))"
   ]
  },
  {
   "cell_type": "markdown",
   "metadata": {},
   "source": [
    "#### Compute $f$ and $\\nabla f$"
   ]
  },
  {
   "cell_type": "code",
   "execution_count": 18,
   "metadata": {},
   "outputs": [],
   "source": [
    "def f(x):\n",
    "    return np.average((A@x - b)**2)\n",
    "\n",
    "def grad_f(x):\n",
    "    return A.T@(A@x - b)/n"
   ]
  },
  {
   "cell_type": "code",
   "execution_count": 28,
   "metadata": {},
   "outputs": [
    {
     "data": {
      "text/plain": [
       "1.0"
      ]
     },
     "execution_count": 28,
     "metadata": {},
     "output_type": "execute_result"
    }
   ],
   "source": [
    "x0 = np.zeros((n,1))\n",
    "f(x0)"
   ]
  },
  {
   "cell_type": "markdown",
   "metadata": {},
   "source": [
    "#### Solve using deterministic gradient descent\n",
    "$$x_{k+1} = x_{k} - \\alpha\\nabla f(x_{k})$$\n",
    "with stop criterion $f(x_{k}) < \\epsilon.$"
   ]
  },
  {
   "cell_type": "code",
   "execution_count": 31,
   "metadata": {},
   "outputs": [],
   "source": [
    "def gradient_descent(x0 = np.zeros((n,1)), alpha=0.01, epsilon = 0.1):\n",
    "  iter = 0\n",
    "  x_opt = x0\n",
    "\n",
    "  while f(x_opt) > epsilon:\n",
    "    x_opt -= alpha*grad_f(x_opt)\n",
    "    iter += 1\n",
    "  \n",
    "  print(f\"Terminated after {iter} iterations\")\n",
    "  return x_opt"
   ]
  },
  {
   "cell_type": "code",
   "execution_count": 32,
   "metadata": {},
   "outputs": [
    {
     "name": "stdout",
     "output_type": "stream",
     "text": [
      "Terminated after 4444 iterations\n"
     ]
    }
   ],
   "source": [
    "x_opt = gradient_descent()"
   ]
  },
  {
   "cell_type": "code",
   "execution_count": 34,
   "metadata": {},
   "outputs": [
    {
     "data": {
      "text/plain": [
       "0.09999055035112892"
      ]
     },
     "execution_count": 34,
     "metadata": {},
     "output_type": "execute_result"
    }
   ],
   "source": [
    "f(x_opt)"
   ]
  }
 ],
 "metadata": {
  "kernelspec": {
   "display_name": "Python 3",
   "language": "python",
   "name": "python3"
  },
  "language_info": {
   "codemirror_mode": {
    "name": "ipython",
    "version": 3
   },
   "file_extension": ".py",
   "mimetype": "text/x-python",
   "name": "python",
   "nbconvert_exporter": "python",
   "pygments_lexer": "ipython3",
   "version": "3.10.12"
  }
 },
 "nbformat": 4,
 "nbformat_minor": 2
}
