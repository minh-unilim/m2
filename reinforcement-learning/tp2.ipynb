{
 "cells": [
  {
   "cell_type": "markdown",
   "metadata": {},
   "source": [
    "##### Jack's Car Rental\n",
    "\n",
    "1. States: $\\begin{bmatrix} x \\\\ y\\end{bmatrix}$, where $0 \\le x, y \\le 20$;\n",
    "2. Actions: $\\mathcal{A}\\left(\\begin{bmatrix} x \\\\ y\\end{bmatrix}\\right) = \\{n : -\\min(5, y) \\le n \\le  \\min(5, x) \\}$\n",
    "\n",
    "Firstly, we calculate the probability of moving from $\\begin{bmatrix} x_1 \\\\ y_1\\end{bmatrix}$ to $\\begin{bmatrix} x_2 \\\\ y_2\\end{bmatrix}$ during the day. Denote by $\\mathrm{pois}(\\lambda, n)$ the probability of outcome $n$ in Poisson distribution of parameter $\\lambda$.\n",
    "\n",
    "If some cars are rented, we have\n",
    "$$p(x_2 | x_1) = \\sum\\limits_{n=0}^{\\min(x_1, y_1)} \\mathrm{pois}(3, n)\\mathrm{pois}(4, x_2 - n).$$\n",
    "\n",
    "Otherwise,\n",
    "\n",
    "$$p(x_2 | x_1) = \\begin{cases} \\mathrm{pois}(4, x_2 - x_1),  & \\mathrm{   if} \\,\\, x_2 \\ge x_1 \\\\ 0, & \\mathrm{otherwise.}  \\end{cases}$$\n",
    "\n",
    "We can rewrite as\n",
    "\n",
    "$$p(x_2 | x_1) = \\begin{cases} \\sum\\limits_{n=0}^{\\min(x_1, y_1)} \\mathrm{pois}(3, n)\\mathrm{pois}(4, x_2 - n) + \\mathrm{pois}(4, x_2 - x_1),  & \\mathrm{   if} \\,\\, x_2 \\ge x_1 \\\\ \\sum\\limits_{n=0}^{\\min(x_1, y_1)} \\mathrm{pois}(3, n)\\mathrm{pois}(4, x_2 - n), & \\mathrm{otherwise.}  \\end{cases}$$"
   ]
  }
 ],
 "metadata": {
  "language_info": {
   "name": "python"
  }
 },
 "nbformat": 4,
 "nbformat_minor": 2
}
