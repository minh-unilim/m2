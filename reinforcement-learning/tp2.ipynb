{
 "cells": [
  {
   "cell_type": "markdown",
   "metadata": {},
   "source": [
    "##### Jack's Car Rental\n",
    "\n",
    "1. States: $\\begin{bmatrix} x \\\\ y\\end{bmatrix}$, where $0 \\le x, y \\le 20$;\n",
    "2. Actions: $\\mathcal{A}\\left(\\begin{bmatrix} x \\\\ y\\end{bmatrix}\\right) = \\{n : -\\min(5, y) \\le n \\le  \\min(5, x) \\}$"
   ]
  }
 ],
 "metadata": {
  "language_info": {
   "name": "python"
  }
 },
 "nbformat": 4,
 "nbformat_minor": 2
}
