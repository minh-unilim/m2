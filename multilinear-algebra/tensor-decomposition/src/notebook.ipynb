{
 "cells": [
  {
   "cell_type": "code",
   "execution_count": null,
   "metadata": {},
   "outputs": [],
   "source": [
    "X = cat(3, [1, 2; 2, 4], [2, 4; 4, 8]);"
   ]
  }
 ],
 "metadata": {
  "kernelspec": {
   "display_name": "matlab_env",
   "language": "python",
   "name": "python3"
  },
  "language_info": {
   "name": "python",
   "version": "3.11.8"
  }
 },
 "nbformat": 4,
 "nbformat_minor": 2
}
