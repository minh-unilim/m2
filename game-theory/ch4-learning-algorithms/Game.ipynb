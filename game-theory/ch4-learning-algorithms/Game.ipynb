{
 "cells": [
  {
   "cell_type": "code",
   "execution_count": 3,
   "metadata": {},
   "outputs": [],
   "source": [
    "import numpy as np\n",
    "from typing import Literal"
   ]
  },
  {
   "cell_type": "code",
   "execution_count": 18,
   "metadata": {},
   "outputs": [],
   "source": [
    "FeedbackType = Literal['mixed_vector', 'pure_vector', 'bandit']"
   ]
  },
  {
   "cell_type": "code",
   "execution_count": 30,
   "metadata": {},
   "outputs": [],
   "source": [
    "class Game:\n",
    "    def __init__(self, payoffs, feedback_type: FeedbackType = 'mixed_vector'):\n",
    "        self.payoffs = payoffs\n",
    "        self.feedback_type = feedback_type\n",
    "\n",
    "    def __str__(self):\n",
    "        pass\n",
    "    \n",
    "    def update_strategies(self, strategies, values, learning_rate = 0.1, feedback_type: FeedbackType = None):\n",
    "      if feedback_type is None:\n",
    "          feedback_type = self.feedback_type\n",
    "\n",
    "      print(f\"Feedback Type: {feedback_type}\")\n",
    "      \n",
    "      feedbacks = self.get_feedbacks(strategies, feedback_type)\n",
    "      \n",
    "      values += learning_rate * feedbacks\n",
    "\n",
    "      exponential_values = [[np.exp(action) for action in value] for value in values]\n",
    "      exponential_sums = [np.sum(exponential_value) for exponential_value in exponential_values]\n",
    "\n",
    "      updated_strategies = [[exponential_value/exponential_sum \n",
    "                            for exponential_value in exponential_values] \n",
    "                           for exponential_sum in exponential_sums]\n",
    "      return updated_strategies\n",
    "\n",
    "    \n",
    "    def get_feedbacks(self, strategies, feedback_type: FeedbackType = None):\n",
    "      if feedback_type is None:\n",
    "          feedback_type = self.feedback_type\n",
    "\n",
    "\n",
    "\n",
    "      if feedback_type == 'mixed_vector':\n",
    "          feedback_0 = np.matmul(self.payoffs, strategies[1])\n",
    "          feedback_1 = np.matmul(self.payoffs.T, strategies[0])\n",
    "          return [feedback_0, feedback_1]\n",
    "      \n",
    "      action_0 = Game._sample_from_distribution(strategies[0])\n",
    "      action_1 = Game._sample_from_distribution(strategies[1])\n",
    "      \n",
    "      if feedback_type == 'pure_vector':\n",
    "          feedback_0 = [self.payoffs[0][action_1], self.payoffs[1][action_1]]\n",
    "          feedback_1 = [self.payoffs[action_0][0], self.payoffs[action_0][1]]\n",
    "          return [feedback_0, feedback_1]\n",
    "      \n",
    "      if feedback_type == 'bandit':\n",
    "          feedback_0 = [self.payoffs[0][action_1]*(action_1 == 0)/strategies[0][0], \n",
    "                        self.payoffs[1][action_1]*(action_1 == 1)/strategies[0][1]]\n",
    "          feedback_1 = [self.payoffs[action_0][0]*(action_0 == 0)/strategies[1][0], \n",
    "                        self.payoffs[action_0][1]*(action_0 == 1)/strategies[1][1]]\n",
    "          return [feedback_0, feedback_1]\n",
    "      \n",
    "\n",
    "    @staticmethod\n",
    "    def _sample_from_distribution(distribution):\n",
    "        return np.random.choice(len(distribution), p=distribution)\n",
    "    \n",
    "\n",
    "      "
   ]
  },
  {
   "cell_type": "code",
   "execution_count": 31,
   "metadata": {},
   "outputs": [],
   "source": [
    "A = np.array([[-1,-5], [0, -3]])\n",
    "B = np.array([[-1,0], [-5, -3]])  \n",
    "\n",
    "strategies = [[0.9, 0.1], [0.7, 0.3]]\n",
    "values = [[0, 0], [0, 0]]\n",
    "\n",
    "game = Game(A, B)"
   ]
  },
  {
   "cell_type": "code",
   "execution_count": 32,
   "metadata": {},
   "outputs": [
    {
     "name": "stdout",
     "output_type": "stream",
     "text": [
      "Feedback Type: [[-1  0]\n",
      " [-5 -3]]\n"
     ]
    },
    {
     "ename": "ValueError",
     "evalue": "The truth value of an array with more than one element is ambiguous. Use a.any() or a.all()",
     "output_type": "error",
     "traceback": [
      "\u001b[0;31m---------------------------------------------------------------------------\u001b[0m",
      "\u001b[0;31mValueError\u001b[0m                                Traceback (most recent call last)",
      "\u001b[0;32m/tmp/ipykernel_9569/1024467327.py\u001b[0m in \u001b[0;36m<module>\u001b[0;34m\u001b[0m\n\u001b[0;32m----> 1\u001b[0;31m \u001b[0mgame\u001b[0m\u001b[0;34m.\u001b[0m\u001b[0mupdate_strategies\u001b[0m\u001b[0;34m(\u001b[0m\u001b[0mstrategies\u001b[0m\u001b[0;34m,\u001b[0m \u001b[0mvalues\u001b[0m \u001b[0;34m=\u001b[0m \u001b[0mvalues\u001b[0m\u001b[0;34m)\u001b[0m\u001b[0;34m\u001b[0m\u001b[0;34m\u001b[0m\u001b[0m\n\u001b[0m",
      "\u001b[0;32m/tmp/ipykernel_9569/1242413190.py\u001b[0m in \u001b[0;36mupdate_strategies\u001b[0;34m(self, strategies, values, learning_rate, feedback_type)\u001b[0m\n\u001b[1;32m     13\u001b[0m       \u001b[0mprint\u001b[0m\u001b[0;34m(\u001b[0m\u001b[0;34mf\"Feedback Type: {feedback_type}\"\u001b[0m\u001b[0;34m)\u001b[0m\u001b[0;34m\u001b[0m\u001b[0;34m\u001b[0m\u001b[0m\n\u001b[1;32m     14\u001b[0m \u001b[0;34m\u001b[0m\u001b[0m\n\u001b[0;32m---> 15\u001b[0;31m       \u001b[0mfeedbacks\u001b[0m \u001b[0;34m=\u001b[0m \u001b[0mself\u001b[0m\u001b[0;34m.\u001b[0m\u001b[0mget_feedbacks\u001b[0m\u001b[0;34m(\u001b[0m\u001b[0mstrategies\u001b[0m\u001b[0;34m,\u001b[0m \u001b[0mfeedback_type\u001b[0m\u001b[0;34m)\u001b[0m\u001b[0;34m\u001b[0m\u001b[0;34m\u001b[0m\u001b[0m\n\u001b[0m\u001b[1;32m     16\u001b[0m \u001b[0;34m\u001b[0m\u001b[0m\n\u001b[1;32m     17\u001b[0m       \u001b[0mvalues\u001b[0m \u001b[0;34m+=\u001b[0m \u001b[0mlearning_rate\u001b[0m \u001b[0;34m*\u001b[0m \u001b[0mfeedbacks\u001b[0m\u001b[0;34m\u001b[0m\u001b[0;34m\u001b[0m\u001b[0m\n",
      "\u001b[0;32m/tmp/ipykernel_9569/1242413190.py\u001b[0m in \u001b[0;36mget_feedbacks\u001b[0;34m(self, strategies, feedback_type)\u001b[0m\n\u001b[1;32m     32\u001b[0m \u001b[0;34m\u001b[0m\u001b[0m\n\u001b[1;32m     33\u001b[0m \u001b[0;34m\u001b[0m\u001b[0m\n\u001b[0;32m---> 34\u001b[0;31m       \u001b[0;32mif\u001b[0m \u001b[0mfeedback_type\u001b[0m \u001b[0;34m==\u001b[0m \u001b[0;34m'mixed_vector'\u001b[0m\u001b[0;34m:\u001b[0m\u001b[0;34m\u001b[0m\u001b[0;34m\u001b[0m\u001b[0m\n\u001b[0m\u001b[1;32m     35\u001b[0m           \u001b[0mfeedback_0\u001b[0m \u001b[0;34m=\u001b[0m \u001b[0mnp\u001b[0m\u001b[0;34m.\u001b[0m\u001b[0mmatmul\u001b[0m\u001b[0;34m(\u001b[0m\u001b[0mself\u001b[0m\u001b[0;34m.\u001b[0m\u001b[0mpayoffs\u001b[0m\u001b[0;34m,\u001b[0m \u001b[0mstrategies\u001b[0m\u001b[0;34m[\u001b[0m\u001b[0;36m1\u001b[0m\u001b[0;34m]\u001b[0m\u001b[0;34m)\u001b[0m\u001b[0;34m\u001b[0m\u001b[0;34m\u001b[0m\u001b[0m\n\u001b[1;32m     36\u001b[0m           \u001b[0mfeedback_1\u001b[0m \u001b[0;34m=\u001b[0m \u001b[0mnp\u001b[0m\u001b[0;34m.\u001b[0m\u001b[0mmatmul\u001b[0m\u001b[0;34m(\u001b[0m\u001b[0mself\u001b[0m\u001b[0;34m.\u001b[0m\u001b[0mpayoffs\u001b[0m\u001b[0;34m.\u001b[0m\u001b[0mT\u001b[0m\u001b[0;34m,\u001b[0m \u001b[0mstrategies\u001b[0m\u001b[0;34m[\u001b[0m\u001b[0;36m0\u001b[0m\u001b[0;34m]\u001b[0m\u001b[0;34m)\u001b[0m\u001b[0;34m\u001b[0m\u001b[0;34m\u001b[0m\u001b[0m\n",
      "\u001b[0;31mValueError\u001b[0m: The truth value of an array with more than one element is ambiguous. Use a.any() or a.all()"
     ]
    }
   ],
   "source": [
    "game.update_strategies(strategies, values = values)"
   ]
  },
  {
   "cell_type": "code",
   "execution_count": null,
   "metadata": {},
   "outputs": [],
   "source": [
    "arr = [0, 1, 2]\n",
    "\n",
    "for "
   ]
  }
 ],
 "metadata": {
  "kernelspec": {
   "display_name": "Python 3",
   "language": "python",
   "name": "python3"
  },
  "language_info": {
   "codemirror_mode": {
    "name": "ipython",
    "version": 3
   },
   "file_extension": ".py",
   "mimetype": "text/x-python",
   "name": "python",
   "nbconvert_exporter": "python",
   "pygments_lexer": "ipython3",
   "version": "3.10.12"
  }
 },
 "nbformat": 4,
 "nbformat_minor": 2
}
