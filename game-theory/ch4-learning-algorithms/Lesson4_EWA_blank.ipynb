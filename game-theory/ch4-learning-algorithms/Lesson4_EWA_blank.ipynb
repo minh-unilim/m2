{
  "cells": [
    {
      "cell_type": "markdown",
      "metadata": {
        "id": "WaTBFxRoMePd"
      },
      "source": [
        "### **LESSON 4: EXPONENTIALLY WEIGHTED DYNAMICS FOR THE PRISONER'S DILEMMA**"
      ]
    },
    {
      "cell_type": "markdown",
      "metadata": {
        "id": "X1WYyEpWJxwr"
      },
      "source": [
        "Install packages used in this code."
      ]
    },
    {
      "cell_type": "code",
      "execution_count": 2,
      "metadata": {
        "id": "K5sKhHHRJbxE"
      },
      "outputs": [],
      "source": [
        "import numpy as np\n",
        "from matplotlib import pyplot as plt\n",
        "import nashpy as nash\n",
        "import math\n",
        "import copy"
      ]
    },
    {
      "cell_type": "markdown",
      "metadata": {
        "id": "LuM4KMAQJ7N4"
      },
      "source": [
        "Define a game of Prisoner's Dilemma by using Nashpy.\n",
        "In this game, we consider (x1D, x2C) where x1D and x2C are respectively the probability of Player 1 and Player 2 choosing the pure action D and C."
      ]
    },
    {
      "cell_type": "code",
      "execution_count": 58,
      "metadata": {
        "id": "kYMJCsfyNGt1"
      },
      "outputs": [],
      "source": [
        "# Create the game with the payoff matrix\n",
        "A = np.array([[-1,-5], [0, -3]]) # A is the payoff matrix of Player 1 (the column player - Julian)\n",
        "B = np.array([[-1,0], [-5, -3]]) # B is the payoff matrix of Player 2 (the row player - Thomas)\n",
        "game = nash.Game(A,B)  # create a game with the input of the payoff matrices of two players."
      ]
    },
    {
      "cell_type": "markdown",
      "metadata": {
        "id": "alwWEdEHP5hO"
      },
      "source": [
        "# **Exponential Weights Algorithm (EWA) with mixed payoff vector feedback**"
      ]
    },
    {
      "cell_type": "markdown",
      "metadata": {
        "id": "c3DG4EuvQINr"
      },
      "source": [
        "\n",
        "\n",
        "---\n",
        "\n",
        "\n",
        "**Initialize**: $y_{i,1} \\in \\mathbb{R}^{\\mathcal{A}_{i}}$, $i=1,\\ldots,N$ and step-sizes $\\{\\gamma_n\\}$.\n",
        "\n",
        "For all epoch $n=1,2,\\ldots$, for all players $i \\in \\mathcal{N}$ do\n",
        "\n",
        "*   Set $x_{i,n} \\propto \\exp(y_{i,n})$.\n",
        "*   Get $\\hat{v}_{i,n} = v_{i}(x_{i,n},x_{-i,n}) \\in \\mathbb{R}^{\\mathcal{A}_{i}}$.\n",
        "*   Set $y_{i,n+1} \\longleftarrow y_{i,n} + \\gamma_n \\hat{v}_{i,n}$.\n",
        "\n",
        "\n",
        "\n",
        "---\n",
        "Recall this game has two actions: C(ooperate) and D(efect).\n",
        "\n",
        "Attention: $x_{i,n} \\propto \\exp(y_{i,n})$ means that\n",
        "  * Player 1 updates $x_{1,n,D} =  \\dfrac{\\exp(y_{1,n,D})}{\\exp(y_{1,n,C}) + \\exp(y_{1,n,D})}$.\n",
        "\n",
        "  * Player 2 updates $x_{2,n,C} =  \\dfrac{\\exp(y_{2,n,C})}{\\exp(y_{2,n,C}) + \\exp(y_{2,n,D})}$.\n",
        "\n",
        "Note that $x_{i,n,C} + x_{i,n,D} = 1$ for all player $i \\in \\mathcal{N}$ and epoch $n$."
      ]
    },
    {
      "cell_type": "code",
      "execution_count": 60,
      "metadata": {
        "id": "ljr0PKdKYuLU"
      },
      "outputs": [],
      "source": [
        "def set_mixed_strategy(y):\n",
        "  x1D = np.exp(y[0][1]) / (np.exp(y[0][0]) + np.exp(y[0][1]))\n",
        "  x2C = np.exp(y[1][0]) / (np.exp(y[1][0]) + np.exp(y[1][1]))\n",
        "\n",
        "  return np.array([[1-x1D, x1D], [x2C, 1-x2C]])\n",
        "\n",
        "def compute_payoff(game, x_n):\n",
        "  # np.matmul: calculate matrix product of two arrays.\n",
        "  v1n = np.matmul(game.payoff_matrices[0], x_n[1])\n",
        "  v2n = np.matmul(game.payoff_matrices[1].T, x_n[0])\n",
        "  return np.array([v1n, v2n])\n",
        "\n",
        "def EWA(game, y_0=np.array([[0, 0], [0, 0]]), nIterations=100, gamma_n=1):\n",
        "  # create a list to save all the solutions x at each epoch\n",
        "  x = []\n",
        "\n",
        "  # initialization\n",
        "  y_n = y_0\n",
        "\n",
        "  # for all epoch\n",
        "  for n in range(nIterations):\n",
        "    # set mix strategy\n",
        "    x_n = set_mixed_strategy(y_n)\n",
        "    # compute payoffs\n",
        "    v_n = compute_payoff(game, x_n)\n",
        "    # update scores\n",
        "    y_n = y_n + gamma_n * v_n\n",
        "\n",
        "    # save the solution\n",
        "    x.append(x_n)\n",
        "\n",
        "  return np.array(x)"
      ]
    },
    {
      "cell_type": "markdown",
      "metadata": {
        "id": "T39YFKiSY-LX"
      },
      "source": [
        "**Run EWA for the Prisoner's Dilemma game** with $100$ epochs (or iterations), the step-size of $1$, and the starting values ($n = 0$) of action scores $y_0 = y_n = [[y_{1,n,C}, y_{1,n,D}], [y_{2,n,C}, y_{2,n,D}]] = [[0, 0], [0, 0]]$.\n"
      ]
    },
    {
      "cell_type": "code",
      "execution_count": 61,
      "metadata": {
        "id": "TQjGRlj_Y6Bw"
      },
      "outputs": [
        {
          "name": "stdout",
          "output_type": "stream",
          "text": [
            "[[[5.00000000e-01 5.00000000e-01]\n",
            "  [5.00000000e-01 5.00000000e-01]]\n",
            "\n",
            " [[4.62570155e-01 5.37429845e-01]\n",
            "  [4.62570155e-01 5.37429845e-01]]\n",
            "\n",
            " [[4.24642735e-01 5.75357265e-01]\n",
            "  [4.24642735e-01 5.75357265e-01]]\n",
            "\n",
            " [[3.86682522e-01 6.13317478e-01]\n",
            "  [3.86682522e-01 6.13317478e-01]]\n",
            "\n",
            " [[3.49187976e-01 6.50812024e-01]\n",
            "  [3.49187976e-01 6.50812024e-01]]\n",
            "\n",
            " [[3.12664529e-01 6.87335471e-01]\n",
            "  [3.12664529e-01 6.87335471e-01]]\n",
            "\n",
            " [[2.77594498e-01 7.22405502e-01]\n",
            "  [2.77594498e-01 7.22405502e-01]]\n",
            "\n",
            " [[2.44407415e-01 7.55592585e-01]\n",
            "  [2.44407415e-01 7.55592585e-01]]\n",
            "\n",
            " [[2.13454812e-01 7.86545188e-01]\n",
            "  [2.13454812e-01 7.86545188e-01]]\n",
            "\n",
            " [[1.84992876e-01 8.15007124e-01]\n",
            "  [1.84992876e-01 8.15007124e-01]]\n",
            "\n",
            " [[1.59174877e-01 8.40825123e-01]\n",
            "  [1.59174877e-01 8.40825123e-01]]\n",
            "\n",
            " [[1.36053488e-01 8.63946512e-01]\n",
            "  [1.36053488e-01 8.63946512e-01]]\n",
            "\n",
            " [[1.15591421e-01 8.84408579e-01]\n",
            "  [1.15591421e-01 8.84408579e-01]]\n",
            "\n",
            " [[9.76777194e-02 9.02322281e-01]\n",
            "  [9.76777194e-02 9.02322281e-01]]\n",
            "\n",
            " [[8.21467304e-02 9.17853270e-01]\n",
            "  [8.21467304e-02 9.17853270e-01]]\n",
            "\n",
            " [[6.87970855e-02 9.31202914e-01]\n",
            "  [6.87970855e-02 9.31202914e-01]]\n",
            "\n",
            " [[5.74087438e-02 9.42591256e-01]\n",
            "  [5.74087438e-02 9.42591256e-01]]\n",
            "\n",
            " [[4.77569709e-02 9.52243029e-01]\n",
            "  [4.77569709e-02 9.52243029e-01]]\n",
            "\n",
            " [[3.96228711e-02 9.60377129e-01]\n",
            "  [3.96228711e-02 9.60377129e-01]]\n",
            "\n",
            " [[3.28006195e-02 9.67199381e-01]\n",
            "  [3.28006195e-02 9.67199381e-01]]\n",
            "\n",
            " [[2.71018556e-02 9.72898144e-01]\n",
            "  [2.71018556e-02 9.72898144e-01]]\n",
            "\n",
            " [[2.23578326e-02 9.77642167e-01]\n",
            "  [2.23578326e-02 9.77642167e-01]]\n",
            "\n",
            " [[1.84199143e-02 9.81580086e-01]\n",
            "  [1.84199143e-02 9.81580086e-01]]\n",
            "\n",
            " [[1.51589486e-02 9.84841051e-01]\n",
            "  [1.51589486e-02 9.84841051e-01]]\n",
            "\n",
            " [[1.24639400e-02 9.87536060e-01]\n",
            "  [1.24639400e-02 9.87536060e-01]]\n",
            "\n",
            " [[1.02403438e-02 9.89759656e-01]\n",
            "  [1.02403438e-02 9.89759656e-01]]\n",
            "\n",
            " [[8.40820999e-03 9.91591790e-01]\n",
            "  [8.40820999e-03 9.91591790e-01]]\n",
            "\n",
            " [[6.90032797e-03 9.93099672e-01]\n",
            "  [6.90032797e-03 9.93099672e-01]]\n",
            "\n",
            " [[5.66046855e-03 9.94339531e-01]\n",
            "  [5.66046855e-03 9.94339531e-01]]\n",
            "\n",
            " [[4.64177431e-03 9.95358226e-01]\n",
            "  [4.64177431e-03 9.95358226e-01]]\n",
            "\n",
            " [[3.80532295e-03 9.96194677e-01]\n",
            "  [3.80532295e-03 9.96194677e-01]]\n",
            "\n",
            " [[3.11886837e-03 9.96881132e-01]\n",
            "  [3.11886837e-03 9.96881132e-01]]\n",
            "\n",
            " [[2.55575286e-03 9.97444247e-01]\n",
            "  [2.55575286e-03 9.97444247e-01]]\n",
            "\n",
            " [[2.09397729e-03 9.97906023e-01]\n",
            "  [2.09397729e-03 9.97906023e-01]]\n",
            "\n",
            " [[1.71541314e-03 9.98284587e-01]\n",
            "  [1.71541314e-03 9.98284587e-01]]\n",
            "\n",
            " [[1.40513903e-03 9.98594861e-01]\n",
            "  [1.40513903e-03 9.98594861e-01]]\n",
            "\n",
            " [[1.15088515e-03 9.98849115e-01]\n",
            "  [1.15088515e-03 9.98849115e-01]]\n",
            "\n",
            " [[9.42570055e-04 9.99057430e-01]\n",
            "  [9.42570055e-04 9.99057430e-01]]\n",
            "\n",
            " [[7.71915666e-04 9.99228084e-01]\n",
            "  [7.71915666e-04 9.99228084e-01]]\n",
            "\n",
            " [[6.32128300e-04 9.99367872e-01]\n",
            "  [6.32128300e-04 9.99367872e-01]]\n",
            "\n",
            " [[5.17634892e-04 9.99482365e-01]\n",
            "  [5.17634892e-04 9.99482365e-01]]\n",
            "\n",
            " [[4.23865306e-04 9.99576135e-01]\n",
            "  [4.23865306e-04 9.99576135e-01]]\n",
            "\n",
            " [[3.47072933e-04 9.99652927e-01]\n",
            "  [3.47072933e-04 9.99652927e-01]]\n",
            "\n",
            " [[2.84187022e-04 9.99715813e-01]\n",
            "  [2.84187022e-04 9.99715813e-01]]\n",
            "\n",
            " [[2.32691253e-04 9.99767309e-01]\n",
            "  [2.32691253e-04 9.99767309e-01]]\n",
            "\n",
            " [[1.90523953e-04 9.99809476e-01]\n",
            "  [1.90523953e-04 9.99809476e-01]]\n",
            "\n",
            " [[1.55996179e-04 9.99844004e-01]\n",
            "  [1.55996179e-04 9.99844004e-01]]\n",
            "\n",
            " [[1.27724473e-04 9.99872276e-01]\n",
            "  [1.27724473e-04 9.99872276e-01]]\n",
            "\n",
            " [[1.04575710e-04 9.99895424e-01]\n",
            "  [1.04575710e-04 9.99895424e-01]]\n",
            "\n",
            " [[8.56218684e-05 9.99914378e-01]\n",
            "  [8.56218684e-05 9.99914378e-01]]\n",
            "\n",
            " [[7.01029450e-05 9.99929897e-01]\n",
            "  [7.01029450e-05 9.99929897e-01]]\n",
            "\n",
            " [[5.73965687e-05 9.99942603e-01]\n",
            "  [5.73965687e-05 9.99942603e-01]]\n",
            "\n",
            " [[4.69930945e-05 9.99953007e-01]\n",
            "  [4.69930945e-05 9.99953007e-01]]\n",
            "\n",
            " [[3.84752002e-05 9.99961525e-01]\n",
            "  [3.84752002e-05 9.99961525e-01]]\n",
            "\n",
            " [[3.15011706e-05 9.99968499e-01]\n",
            "  [3.15011706e-05 9.99968499e-01]]\n",
            "\n",
            " [[2.57912056e-05 9.99974209e-01]\n",
            "  [2.57912056e-05 9.99974209e-01]]\n",
            "\n",
            " [[2.11162064e-05 9.99978884e-01]\n",
            "  [2.11162064e-05 9.99978884e-01]]\n",
            "\n",
            " [[1.72885902e-05 9.99982711e-01]\n",
            "  [1.72885902e-05 9.99982711e-01]]\n",
            "\n",
            " [[1.41547693e-05 9.99985845e-01]\n",
            "  [1.41547693e-05 9.99985845e-01]]\n",
            "\n",
            " [[1.15889911e-05 9.99988411e-01]\n",
            "  [1.15889911e-05 9.99988411e-01]]\n",
            "\n",
            " [[9.48829433e-06 9.99990512e-01]\n",
            "  [9.48829433e-06 9.99990512e-01]]\n",
            "\n",
            " [[7.76837909e-06 9.99992232e-01]\n",
            "  [7.76837910e-06 9.99992232e-01]]\n",
            "\n",
            " [[6.36022476e-06 9.99993640e-01]\n",
            "  [6.36022476e-06 9.99993640e-01]]\n",
            "\n",
            " [[5.20732093e-06 9.99994793e-01]\n",
            "  [5.20732093e-06 9.99994793e-01]]\n",
            "\n",
            " [[4.26340003e-06 9.99995737e-01]\n",
            "  [4.26340003e-06 9.99995737e-01]]\n",
            "\n",
            " [[3.49058090e-06 9.99996509e-01]\n",
            "  [3.49058090e-06 9.99996509e-01]]\n",
            "\n",
            " [[2.85784874e-06 9.99997142e-01]\n",
            "  [2.85784874e-06 9.99997142e-01]]\n",
            "\n",
            " [[2.33981053e-06 9.99997660e-01]\n",
            "  [2.33981053e-06 9.99997660e-01]]\n",
            "\n",
            " [[1.91567610e-06 9.99998084e-01]\n",
            "  [1.91567610e-06 9.99998084e-01]]\n",
            "\n",
            " [[1.56842378e-06 9.99998432e-01]\n",
            "  [1.56842378e-06 9.99998432e-01]]\n",
            "\n",
            " [[1.28411735e-06 9.99998716e-01]\n",
            "  [1.28411735e-06 9.99998716e-01]]\n",
            "\n",
            " [[1.05134674e-06 9.99998949e-01]\n",
            "  [1.05134674e-06 9.99998949e-01]]\n",
            "\n",
            " [[8.60770165e-07 9.99999139e-01]\n",
            "  [8.60770165e-07 9.99999139e-01]]\n",
            "\n",
            " [[7.04739176e-07 9.99999295e-01]\n",
            "  [7.04739176e-07 9.99999295e-01]]\n",
            "\n",
            " [[5.76991751e-07 9.99999423e-01]\n",
            "  [5.76991751e-07 9.99999423e-01]]\n",
            "\n",
            " [[4.72400967e-07 9.99999528e-01]\n",
            "  [4.72400967e-07 9.99999528e-01]]\n",
            "\n",
            " [[3.86769251e-07 9.99999613e-01]\n",
            "  [3.86769251e-07 9.99999613e-01]]\n",
            "\n",
            " [[3.16659915e-07 9.99999683e-01]\n",
            "  [3.16659915e-07 9.99999683e-01]]\n",
            "\n",
            " [[2.59259233e-07 9.99999741e-01]\n",
            "  [2.59259233e-07 9.99999741e-01]]\n",
            "\n",
            " [[2.12263523e-07 9.99999788e-01]\n",
            "  [2.12263523e-07 9.99999788e-01]]\n",
            "\n",
            " [[1.73786684e-07 9.99999826e-01]\n",
            "  [1.73786684e-07 9.99999826e-01]]\n",
            "\n",
            " [[1.42284510e-07 9.99999858e-01]\n",
            "  [1.42284510e-07 9.99999858e-01]]\n",
            "\n",
            " [[1.16492709e-07 9.99999884e-01]\n",
            "  [1.16492709e-07 9.99999884e-01]]\n",
            "\n",
            " [[9.53761662e-08 9.99999905e-01]\n",
            "  [9.53761662e-08 9.99999905e-01]]\n",
            "\n",
            " [[7.80874024e-08 9.99999922e-01]\n",
            "  [7.80874025e-08 9.99999922e-01]]\n",
            "\n",
            " [[6.39325592e-08 9.99999936e-01]\n",
            "  [6.39325592e-08 9.99999936e-01]]\n",
            "\n",
            " [[5.23435533e-08 9.99999948e-01]\n",
            "  [5.23435533e-08 9.99999948e-01]]\n",
            "\n",
            " [[4.28552774e-08 9.99999957e-01]\n",
            "  [4.28552774e-08 9.99999957e-01]]\n",
            "\n",
            " [[3.50869340e-08 9.99999965e-01]\n",
            "  [3.50869340e-08 9.99999965e-01]]\n",
            "\n",
            " [[2.87267523e-08 9.99999971e-01]\n",
            "  [2.87267522e-08 9.99999971e-01]]\n",
            "\n",
            " [[2.35194757e-08 9.99999976e-01]\n",
            "  [2.35194756e-08 9.99999976e-01]]\n",
            "\n",
            " [[1.92561181e-08 9.99999981e-01]\n",
            "  [1.92561181e-08 9.99999981e-01]]\n",
            "\n",
            " [[1.57655762e-08 9.99999984e-01]\n",
            "  [1.57655762e-08 9.99999984e-01]]\n",
            "\n",
            " [[1.29077621e-08 9.99999987e-01]\n",
            "  [1.29077621e-08 9.99999987e-01]]\n",
            "\n",
            " [[1.05679818e-08 9.99999989e-01]\n",
            "  [1.05679818e-08 9.99999989e-01]]\n",
            "\n",
            " [[8.65233174e-09 9.99999991e-01]\n",
            "  [8.65233175e-09 9.99999991e-01]]\n",
            "\n",
            " [[7.08393022e-09 9.99999993e-01]\n",
            "  [7.08393011e-09 9.99999993e-01]]\n",
            "\n",
            " [[5.79983139e-09 9.99999994e-01]\n",
            "  [5.79983144e-09 9.99999994e-01]]\n",
            "\n",
            " [[4.74850048e-09 9.99999995e-01]\n",
            "  [4.74850037e-09 9.99999995e-01]]\n",
            "\n",
            " [[3.88774335e-09 9.99999996e-01]\n",
            "  [3.88774329e-09 9.99999996e-01]]]\n"
          ]
        }
      ],
      "source": [
        "x_sols = EWA(game,y_0=[[0, 0], [0, 0]], nIterations= 100, gamma_n=0.1)\n",
        "print(x_sols[0:100,:])  # just print the 10 first elements"
      ]
    },
    {
      "cell_type": "markdown",
      "metadata": {
        "id": "iC662pYoo6vr"
      },
      "source": [
        "# **Plot the discrete-time results and compare them with the continuous time (obtained from Lesson 3)**\n",
        "\n",
        "**Probability distribution of strategies over time for Players** (codes from previous lessons)"
      ]
    },
    {
      "cell_type": "code",
      "execution_count": 62,
      "metadata": {},
      "outputs": [
        {
          "data": {
            "text/plain": [
              "<matplotlib.legend.Legend at 0x7f59496a71c0>"
            ]
          },
          "execution_count": 62,
          "metadata": {},
          "output_type": "execute_result"
        },
        {
          "data": {
            "image/png": "[encoded data removed]",
            "text/plain": [
              "<Figure size 360x360 with 1 Axes>"
            ]
          },
          "metadata": {
            "needs_background": "light"
          },
          "output_type": "display_data"
        },
        {
          "data": {
            "image/png": "[encoded data removed]",
            "text/plain": [
              "<Figure size 360x360 with 1 Axes>"
            ]
          },
          "metadata": {
            "needs_background": "light"
          },
          "output_type": "display_data"
        },
        {
          "data": {
            "image/png": "[encoded data removed]",
            "text/plain": [
              "<Figure size 360x360 with 1 Axes>"
            ]
          },
          "metadata": {
            "needs_background": "light"
          },
          "output_type": "display_data"
        },
        {
          "data": {
            "image/png": "[encoded data removed]",
            "text/plain": [
              "<Figure size 360x360 with 1 Axes>"
            ]
          },
          "metadata": {
            "needs_background": "light"
          },
          "output_type": "display_data"
        }
      ],
      "source": [
        "# Set the initial probabilities of each player\n",
        "# x0 = [x01, x02] and y0=[y01, y02]\n",
        "x01 = 0.5       # the probability of Player 1 for action 1 (action C)\n",
        "x02 = 1 - x01   # the probability of Player 1 for action 2 (action D)\n",
        "y01 = 0.5       # the probability of Player 2 for action 1 (action C)\n",
        "y02 = 1 - y01   # the probability of Player 2 for action 2 (action D)\n",
        "\n",
        "# Find the replicator dynamics with intial probabilities x0 and y0\n",
        "xs, ys = game.asymmetric_replicator_dynamics(\n",
        "    x0=np.array([x01, x02]), y0=np.array([y01, y02]))\n",
        "\n",
        "plt.figure(figsize=(5, 5))\n",
        "# set color of lines\n",
        "plt.gca().set_prop_cycle(color=['red', 'blue', 'green', 'yellow'])\n",
        "\n",
        "plt.plot(xs)\n",
        "plt.xlabel(\"Timepoints\")\n",
        "plt.ylabel(\"Probability\")\n",
        "plt.title(\"Probability distribution of strategies over time for Player 1\")\n",
        "plt.legend([\"$x_{1C}$\", \"$x_{1D}$\"])\n",
        "\n",
        "plt.figure(figsize=(5, 5))\n",
        "plt.plot(x_sols[:, 0, 0], 'r*', x_sols[:, 0, 1], 'b*')  # x_sols[:, 0] for the x1D\n",
        "plt.xlabel(\"Epoch\")\n",
        "plt.ylabel(\"Probability obtained by EWA\")\n",
        "plt.title(\"Probability distribution of strategies over time for Player 1\")\n",
        "plt.legend([\"$x_{1C}$\", \"$x_{1D}$\"])\n",
        "\n",
        "plt.figure(figsize=(5, 5))\n",
        "# set color of lines\n",
        "plt.gca().set_prop_cycle(color=['red', 'blue', 'green', 'yellow'])\n",
        "\n",
        "plt.plot(ys)\n",
        "plt.xlabel(\"Timepoints\")\n",
        "plt.ylabel(\"Probability\")\n",
        "plt.title(\"Probability distribution of strategies over time for Player 2\")\n",
        "plt.legend([\"$x_{2C}$\", \"$x_{2D}$\"])\n",
        "\n",
        "plt.figure(figsize=(5, 5))\n",
        "plt.plot(x_sols[:, 1, 0], 'r*', x_sols[:, 1, 1], 'b*')\n",
        "plt.xlabel(\"Epoch\")\n",
        "plt.ylabel(\"Probability obtained by EWA\")\n",
        "plt.title(\"Probability distribution of strategies over time for Player 2\")\n",
        "plt.legend([\"$x_{2C}$\", \"$x_{2D}$\"])\n",
        "\n"
      ]
    }
  ],
  "metadata": {
    "colab": {
      "provenance": []
    },
    "kernelspec": {
      "display_name": "Python 3",
      "name": "python3"
    },
    "language_info": {
      "codemirror_mode": {
        "name": "ipython",
        "version": 3
      },
      "file_extension": ".py",
      "mimetype": "text/x-python",
      "name": "python",
      "nbconvert_exporter": "python",
      "pygments_lexer": "ipython3",
      "version": "3.10.12"
    }
  },
  "nbformat": 4,
  "nbformat_minor": 0
}
